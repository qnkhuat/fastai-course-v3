{
 "cells": [
  {
   "cell_type": "code",
   "execution_count": null,
   "metadata": {},
   "outputs": [],
   "source": [
    "# load data remember to normalize the data\n",
    "# Linear class + backward\n",
    "# relu class + backward\n",
    "# loss function ( cross_entropy )\n",
    "# create model has class forward and backward"
   ]
  },
  {
   "cell_type": "code",
   "execution_count": 39,
   "metadata": {},
   "outputs": [],
   "source": [
    "import torch, torch.nn as nn\n",
    "from torch.nn import functional as F , init\n",
    "import gzip, pickle, math"
   ]
  },
  {
   "cell_type": "code",
   "execution_count": 12,
   "metadata": {},
   "outputs": [],
   "source": [
    "from fastai import datasets"
   ]
  },
  {
   "cell_type": "code",
   "execution_count": 40,
   "metadata": {},
   "outputs": [],
   "source": [
    "def normalize(x, m, s): return (x-m)/s\n",
    "\n",
    "def get_data():\n",
    "    MNIST_URL='http://deeplearning.net/data/mnist/mnist.pkl'\n",
    "    path = datasets.download_data(MNIST_URL, ext='.gz')\n",
    "    with gzip.open(path, 'rb') as f:\n",
    "        ((x_train, y_train), (x_valid, y_valid), _) = pickle.load(f, encoding='latin-1')\n",
    "    \n",
    "    # convert to tensor\n",
    "    x_train, y_train, x_valid, y_valid = map(torch.tensor, (x_train,y_train,x_valid,y_valid))\n",
    "    \n",
    "    x_train_mean = x_train.mean()\n",
    "    x_train_std  = x_train.std()\n",
    "    \n",
    "    x_train = normalize(x_train, x_train_mean, x_train_std)\n",
    "    x_valid = normalize(x_valid, x_train_mean, x_train_std) # still use train mean and std\n",
    "    \n",
    "    return x_train, y_train, x_valid, y_valid\n"
   ]
  },
  {
   "cell_type": "code",
   "execution_count": 41,
   "metadata": {},
   "outputs": [],
   "source": [
    "x_train, y_train, x_valid, y_valid = get_data()"
   ]
  },
  {
   "cell_type": "code",
   "execution_count": 78,
   "metadata": {},
   "outputs": [],
   "source": [
    "x, y = x_train[:100], y_train[:100]"
   ]
  },
  {
   "cell_type": "code",
   "execution_count": 177,
   "metadata": {},
   "outputs": [],
   "source": [
    "def init_w_b(in_f, out_f):\n",
    "    with torch.no_grad():\n",
    "        weight = init.kaiming_normal_(torch.Tensor(in_f , out_f), a=0) # we use a = 0 instead of math.sqrt(5) as pytorch doc\n",
    "        bias   = init.uniform_(torch.Tensor(out_f))\n",
    "\n",
    "    weight.g = None\n",
    "    bias.g = None\n",
    "    return weight, bias"
   ]
  },
  {
   "cell_type": "code",
   "execution_count": 255,
   "metadata": {},
   "outputs": [],
   "source": [
    "class Lin():\n",
    "    def __init__(self, w, b):\n",
    "        self.weight, self.bias = w, b\n",
    "        \n",
    "    def __call__(self, x):\n",
    "        return self.forward(x)\n",
    "\n",
    "    def forward(self, x):\n",
    "        self.x = x\n",
    "        self.out = self.x@self.weight + self.bias\n",
    "        return self.out\n",
    "    \n",
    "    def backward(self):\n",
    "        self.x.g = self.out.g @ self.weight.t()\n",
    "        self.weight.g = (self.x.unsqueeze(-1) * self.out.g.unsqueeze(1)).sum(0)\n",
    "        self.bias.g = self.out.g.sum(0)\n",
    "        \n",
    "        "
   ]
  },
  {
   "cell_type": "code",
   "execution_count": null,
   "metadata": {},
   "outputs": [],
   "source": []
  },
  {
   "cell_type": "code",
   "execution_count": 240,
   "metadata": {},
   "outputs": [],
   "source": [
    "class MSE():\n",
    "    def __call__(self, x, target):\n",
    "        self.inp = x \n",
    "        self.target = target\n",
    "        return (self.inp.squeeze() - target.float()).pow(2).mean()\n",
    "    \n",
    "    def backward(self):\n",
    "        self.inp.g = 2. * (self.inp.squeeze() - self.target.float()).unsqueeze(-1) / self.target.shape[0]"
   ]
  },
  {
   "cell_type": "code",
   "execution_count": 241,
   "metadata": {},
   "outputs": [],
   "source": [
    "class Model():\n",
    "    def __init__(self, w1, b1):\n",
    "        self.layers = [Lin(w1,b1)]\n",
    "        self.loss = MSE()\n",
    "    \n",
    "    def __call__(self, x, target):\n",
    "        for l in self.layers: x = l(x)\n",
    "        return self.loss(x, target)\n",
    "    \n",
    "    def backward(self):\n",
    "        self.loss.backward()\n",
    "        for l in reversed(self.layers) : l.backward()"
   ]
  },
  {
   "cell_type": "code",
   "execution_count": 242,
   "metadata": {},
   "outputs": [],
   "source": [
    "lr = 1e-3"
   ]
  },
  {
   "cell_type": "code",
   "execution_count": 271,
   "metadata": {},
   "outputs": [
    {
     "name": "stdout",
     "output_type": "stream",
     "text": [
      "tensor(1557.1709)\n",
      "tensor(737.8953)\n",
      "tensor(529.7811)\n",
      "tensor(461.7998)\n",
      "tensor(427.6084)\n",
      "tensor(402.9778)\n",
      "tensor(382.1999)\n",
      "tensor(363.7706)\n",
      "tensor(347.1635)\n",
      "tensor(332.0988)\n"
     ]
    }
   ],
   "source": [
    "w1, b1 = init_w_b(784,1) \n",
    "m = Model(w1, b1)\n",
    "for i in range(10):\n",
    "    loss = m(x, y)\n",
    "    m.backward()\n",
    "    with torch.no_grad():\n",
    "        for l in m.layers:\n",
    "            if hasattr(l, 'weight'):\n",
    "                l.weight -= l.weight.g * lr\n",
    "                l.bias   -= l.bias.g   * lr\n",
    "                l.weight.g.zero_()\n",
    "                l.bias  .g.zero_()\n",
    "        \n",
    "    \n",
    "    "
   ]
  },
  {
   "cell_type": "code",
   "execution_count": null,
   "metadata": {},
   "outputs": [],
   "source": []
  },
  {
   "cell_type": "code",
   "execution_count": null,
   "metadata": {},
   "outputs": [],
   "source": []
  },
  {
   "cell_type": "code",
   "execution_count": null,
   "metadata": {},
   "outputs": [],
   "source": []
  },
  {
   "cell_type": "code",
   "execution_count": null,
   "metadata": {},
   "outputs": [],
   "source": []
  }
 ],
 "metadata": {
  "kernelspec": {
   "display_name": "Python 3",
   "language": "python",
   "name": "python3"
  },
  "language_info": {
   "codemirror_mode": {
    "name": "ipython",
    "version": 3
   },
   "file_extension": ".py",
   "mimetype": "text/x-python",
   "name": "python",
   "nbconvert_exporter": "python",
   "pygments_lexer": "ipython3",
   "version": "3.6.7"
  }
 },
 "nbformat": 4,
 "nbformat_minor": 2
}
